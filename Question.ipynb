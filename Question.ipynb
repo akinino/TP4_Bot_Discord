{
 "cells": [
  {
   "cell_type": "code",
   "execution_count": null,
   "metadata": {},
   "outputs": [],
   "source": [
    "Qu’est-ce qu’un bot ?\n",
    "Un bot est un utilisateur non humain, qui peut faire tout ce qu'on peux faire mais seulement si on lui donne le droit et tout cela et fait de façon programmer"
   ]
  },
  {
   "cell_type": "code",
   "execution_count": null,
   "metadata": {},
   "outputs": [],
   "source": [
    "Qu'est ce qu'un logging ? A quoi servent les logs ?\n",
    "Ce terme peut etre traduit en francais par journalisation, elle garde donc des logs que ce soit sur la ligne de commande, fichier ou reseaux.\n",
    "Elles servent à voir ainsi heure par heure, voire minute par minute l'activite interne d'un processus"
   ]
  }
 ],
 "metadata": {
  "language_info": {
   "name": "python"
  },
  "orig_nbformat": 4
 },
 "nbformat": 4,
 "nbformat_minor": 2
}
